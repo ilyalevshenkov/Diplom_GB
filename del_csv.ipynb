{
 "cells": [
  {
   "cell_type": "code",
   "execution_count": null,
   "id": "3fd71c2c-b3b8-4f52-8524-79c50c1f90ff",
   "metadata": {},
   "outputs": [],
   "source": [
    "Удаление старых CSV файлов"
   ]
  },
  {
   "cell_type": "code",
   "execution_count": 1,
   "id": "a2018d66-36da-46ec-8cad-8a4240559b5f",
   "metadata": {},
   "outputs": [
    {
     "name": "stdout",
     "output_type": "stream",
     "text": [
      "Удален файл: merged_data.csv\n"
     ]
    }
   ],
   "source": [
    "# Удаление CSV из корневого каталога\n",
    "import os\n",
    "\n",
    "# Получаем текущую директорию\n",
    "current_directory = os.getcwd()\n",
    "\n",
    "# Проходим по всем файлам в текущей директории\n",
    "for file in os.listdir(current_directory):\n",
    "    # Проверяем, является ли файл CSV\n",
    "    if file.endswith('.csv'):\n",
    "        file_path = os.path.join(current_directory, file)\n",
    "        os.remove(file_path)\n",
    "        print(f'Удален файл: {file}')\n"
   ]
  },
  {
   "cell_type": "code",
   "execution_count": 3,
   "id": "725c3b8d-4a9c-4b77-99f6-c690b44d262a",
   "metadata": {},
   "outputs": [
    {
     "name": "stdout",
     "output_type": "stream",
     "text": [
      "Удален файл: /Users/ilyalevshenkov/_GB/GB_Diplom/Sale/Москва_sale_flat_filtered_data.csv\n",
      "Удален файл: /Users/ilyalevshenkov/_GB/GB_Diplom/Sale/Москва2_sale_flat_filtered_data.csv\n",
      "Удален файл: /Users/ilyalevshenkov/_GB/GB_Diplom/Rent/'Санкт-Петербург'_rent_long_commercial_filtered_data.csv\n",
      "Удален файл: /Users/ilyalevshenkov/_GB/GB_Diplom/Rent/Москва_rent_long_building_filtered_data.csv\n"
     ]
    }
   ],
   "source": [
    "# Удаление CSV из папок Sale и Rent\n",
    "import os\n",
    "\n",
    "# Получаем текущую директорию\n",
    "current_directory = os.getcwd()\n",
    "\n",
    "# Названия папок для поиска\n",
    "folders = ['Sale', 'Rent']\n",
    "\n",
    "# Проходим по каждой папке\n",
    "for folder in folders:\n",
    "    folder_path = os.path.join(current_directory, folder)\n",
    "    \n",
    "    # Проверяем, существует ли папка\n",
    "    if os.path.exists(folder_path) and os.path.isdir(folder_path):\n",
    "        # Получаем список файлов в папке\n",
    "        csv_files = [f for f in os.listdir(folder_path) if f.endswith('.csv')]\n",
    "        \n",
    "        # Получаем полный путь к каждому файлу\n",
    "        csv_file_paths = [os.path.join(folder_path, f) for f in csv_files]\n",
    "        \n",
    "        # Находим последний созданный файл\n",
    "        if csv_file_paths:\n",
    "            latest_file = max(csv_file_paths, key=os.path.getctime)\n",
    "\n",
    "            # Удаляем все файлы, кроме последнего созданного\n",
    "            for file_path in csv_file_paths:\n",
    "                if file_path != latest_file:\n",
    "                    os.remove(file_path)\n",
    "                    print(f'Удален файл: {file_path}')\n"
   ]
  },
  {
   "cell_type": "code",
   "execution_count": null,
   "id": "1c52ff7b-0336-4744-bfc5-9e848c764ec6",
   "metadata": {},
   "outputs": [],
   "source": []
  }
 ],
 "metadata": {
  "kernelspec": {
   "display_name": "Python 3 (ipykernel)",
   "language": "python",
   "name": "python3"
  },
  "language_info": {
   "codemirror_mode": {
    "name": "ipython",
    "version": 3
   },
   "file_extension": ".py",
   "mimetype": "text/x-python",
   "name": "python",
   "nbconvert_exporter": "python",
   "pygments_lexer": "ipython3",
   "version": "3.12.2"
  }
 },
 "nbformat": 4,
 "nbformat_minor": 5
}
